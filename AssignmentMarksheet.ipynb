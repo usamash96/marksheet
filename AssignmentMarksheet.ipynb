{
 "cells": [
  {
   "cell_type": "code",
   "execution_count": 14,
   "metadata": {},
   "outputs": [
    {
     "name": "stdout",
     "output_type": "stream",
     "text": [
      "Enter Name: usama\n",
      "input number of chemistry out of 100: 80\n",
      "input number of physics out of 100: 85\n",
      "input number of mathematics out  of 100: 90\n",
      "input number of urdu out of 100: 95\n",
      "input number of islamiat  out of 100: 85\n",
      "A+\n",
      "Chemistry: 80\n",
      "Physics: 85\n",
      "Mathematics: 90\n",
      "Urdu: 95\n",
      "Islamiat: 85\n",
      "Total Marks: 435.0\n",
      "Percentage: 87.0\n",
      "Chemistry: 80\n",
      "Physics: 85\n",
      "Mathematics: 90\n",
      "Urdu: 95\n",
      "Islamiat: 85\n",
      "Total Marks: 435.0\n",
      "Percentage: 87.0\n",
      "Grade: A+\n"
     ]
    }
   ],
   "source": [
    "name=input(\"Enter Name: \")\n",
    "s1=input(\"input number of chemistry out of 100: \")\n",
    "s2=input(\"input number of physics out of 100: \")\n",
    "s3=input(\"input number of mathematics out  of 100: \")\n",
    "s4=input(\"input number of urdu out of 100: \")\n",
    "s5=input(\"input number of islamiat  out of 100: \")\n",
    "total=float(s1)+float(s2)+float(s3)+float(s4)+float(s5)\n",
    "perc=(total/500)*100\n",
    "if(perc>=90 or perc<=99):\n",
    "    grade=\"A+\"\n",
    "    print(\"A+\")\n",
    "elif(perc>=80 or perc<=89):\n",
    "    grade=\"A\"\n",
    "    print(\"A\")\n",
    "elif(perc>=70 or perc<=79):\n",
    "    grade=\"B\"\n",
    "    print(\"B\")\n",
    "elif(perc>=60 or perc<=69):\n",
    "    grade=\"C\"\n",
    "    print(\"C\")\n",
    "elif(perc>=50 or perc<=58):\n",
    "    grade=\"D\"\n",
    "    print(\"D\")\n",
    "else:\n",
    "    grade=\"F\"\n",
    "    print(\"F\")\n",
    "print(\"Chemistry: \"+str(s1))\n",
    "print(\"Physics: \"+str(s2))\n",
    "print(\"Mathematics: \"+str(s3))\n",
    "print(\"Urdu: \"+str(s4))\n",
    "print(\"Islamiat: \"+str(s5))\n",
    "print(\"Total Marks: \"+str(total))\n",
    "print(\"Percentage: \"+str(perc))\n",
    "\n",
    "with open(\"Marksheet.txt\",\"w\") as f:\n",
    "    f.write(\"Chemistry: \"+str(s1)+\"\\n\")\n",
    "    f.write(\"Physics: \"+str(s2)+\"\\n\")\n",
    "    f.write(\"Mathematics: \"+str(s3)+\"\\n\")\n",
    "    f.write(\"Urdu: \"+str(s4)+\"\\n\")\n",
    "    f.write(\"Islamiat: \"+str(s5)+\"\\n\")\n",
    "    f.write(\"Total Marks: \"+str(total)+\"\\n\")\n",
    "    f.write(\"Percentage: \"+str(perc)+\"\\n\")\n",
    "    f.write(\"Grade: \"+str(grade))\n",
    "    \n",
    "with open(\"Marksheet.txt\",\"r\") as r:\n",
    "    readfile=r.read()\n",
    "    print(readfile)"
   ]
  },
  {
   "cell_type": "code",
   "execution_count": null,
   "metadata": {},
   "outputs": [],
   "source": []
  }
 ],
 "metadata": {
  "kernelspec": {
   "display_name": "Python 3",
   "language": "python",
   "name": "python3"
  },
  "language_info": {
   "codemirror_mode": {
    "name": "ipython",
    "version": 3
   },
   "file_extension": ".py",
   "mimetype": "text/x-python",
   "name": "python",
   "nbconvert_exporter": "python",
   "pygments_lexer": "ipython3",
   "version": "3.7.3"
  }
 },
 "nbformat": 4,
 "nbformat_minor": 2
}
